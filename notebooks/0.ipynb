{
 "cells": [
  {
   "cell_type": "markdown",
   "metadata": {},
   "source": [
    "# 1: Classifying based off the USDA Definition\n",
    "\n",
    ">To qualify as a “low-access community,” at least 500 people and/or at least 33 percent of the census tract's population must reside more than one mile from a supermarket or large grocery store."
   ]
  },
  {
   "cell_type": "code",
   "execution_count": 1,
   "metadata": {},
   "outputs": [],
   "source": [
    "\"\"\" Notebook Setup/Imports\n",
    "\"\"\"\n",
    "\n",
    "# Project path setup\n",
    "from pathlib import Path\n",
    "project_dir = Path(__name__).resolve().parents[1]\n",
    "\n",
    "# Library import\n",
    "import pandas as pd\n",
    "\n",
    "# Print strings as markdown\n",
    "from IPython.display import Markdown\n",
    "\n",
    "# Data variables\n",
    "dataset = pd.read_pickle(Path.joinpath(project_dir, \"data/interim/usda.pickle\"))\n",
    "data_dictionary = pd.read_pickle(Path.joinpath(project_dir, \"data/interim/usda_dictionary.pickle\"))"
   ]
  },
  {
   "cell_type": "markdown",
   "metadata": {},
   "source": [
    "## Relevant Variables\n",
    "\n",
    "### Number of residents with low access\n",
    ">LACCESS_POP10 (2010)\n",
    "\n",
    ">LACCESS_POP15 (2015)\n",
    "\n",
    "### Percent of residents with low access\n",
    "> PCT_LACCESS_POP10 (2010)\n",
    "\n",
    "> PCT_LACCESS_POP15 (2015)\n",
    "\n",
    "## Possible Models\n",
    " - **Only** 500 people or more with low access\n",
    " - **Only** 33% of the population or more with low access\n",
    " - **Both** 500 people or more and 33% of the population or more with low access\n",
    " - **Either** 500 people or more or 33% of the population or more with low access"
   ]
  },
  {
   "cell_type": "code",
   "execution_count": 2,
   "metadata": {},
   "outputs": [],
   "source": [
    "\"\"\" Model creation\n",
    "\"\"\"\n",
    "\n",
    "# County mask for 500 people or more with low access\n",
    "five_hundred_bool = [ dataset['LACCESS_POP15'].astype(float) >= 500 ]\n",
    "five_hundren_count = sum(sum([ x for x in five_hundred_bool ]))\n",
    "\n",
    "# County mask for 33% of the population or more with low access\n",
    "thirty_three_percent_bool = [ dataset['PCT_LACCESS_POP15'].astype(float) >= 33 ]\n",
    "thirty_three_percent_count = sum(sum([ x for x in thirty_three_percent_bool ]))\n",
    "\n",
    "# 500 people or more or 33% of the population or more with low access\n",
    "or_mask = [any(tup) for tup in zip(thirty_three_percent_bool[0], five_hundred_bool[0])]\n",
    "\n",
    "# 500 people or more and 33% of the population or more with low access\n",
    "and_mask = [all(tup) for tup in zip(thirty_three_percent_bool[0], five_hundred_bool[0])]"
   ]
  },
  {
   "cell_type": "code",
   "execution_count": 3,
   "metadata": {
    "variables": {
     " sum(and_mask) ": "562",
     " sum(or_mask) ": "2854"
    }
   },
   "outputs": [
    {
     "data": {
      "text/markdown": [
       "### Mask Information\n",
       "             - Only 500 people or more with low access\n",
       "                - There are 2848 FIPS codes that meet this criteria.\n",
       "             - Only 33% of the population or more with low access\n",
       "                - There are 568 FIPS codes that meet this criteria.\n",
       "             - Both 500 people or more and 33% of the population or more with low access\n",
       "                - There are 562 FIPS codes that meet this criteria.\n",
       "             - Either 500 people or more or 33% of the population or more with low access\n",
       "                - There are 2854 FIPS codes that meet this criteria."
      ],
      "text/plain": [
       "<IPython.core.display.Markdown object>"
      ]
     },
     "execution_count": 3,
     "metadata": {},
     "output_type": "execute_result"
    }
   ],
   "source": [
    "Markdown(f\"\"\"### Mask Information\n",
    "             - Only 500 people or more with low access\n",
    "                - There are { five_hundren_count } FIPS codes that meet this criteria.\n",
    "             - Only 33% of the population or more with low access\n",
    "                - There are { thirty_three_percent_count } FIPS codes that meet this criteria.\n",
    "             - Both 500 people or more and 33% of the population or more with low access\n",
    "                - There are { sum(and_mask) } FIPS codes that meet this criteria.\n",
    "             - Either 500 people or more or 33% of the population or more with low access\n",
    "                - There are { sum(or_mask) } FIPS codes that meet this criteria.\"\"\")"
   ]
  },
  {
   "cell_type": "markdown",
   "metadata": {},
   "source": [
    "## Initial Model\n",
    "> We determined that the best initial model for the USDA definition of food desert would be >=33% of the tract living more than a mile from a grocery store. However, all possible models will be included for further analysis."
   ]
  },
  {
   "cell_type": "code",
   "execution_count": 4,
   "metadata": {},
   "outputs": [],
   "source": [
    "dataset['USDA Model Percent'] = thirty_three_percent_bool[0]\n",
    "dataset['USDA Model Count'] = five_hundred_bool[0]\n",
    "dataset['USDA Model And'] = and_mask\n",
    "dataset['USDA Model Or'] = or_mask"
   ]
  },
  {
   "cell_type": "markdown",
   "metadata": {},
   "source": [
    "## Save the new data"
   ]
  },
  {
   "cell_type": "code",
   "execution_count": 5,
   "metadata": {},
   "outputs": [],
   "source": [
    "dataset.to_pickle(Path.joinpath(project_dir, \"data/processed/0_data.pickle\"))"
   ]
  },
  {
   "cell_type": "markdown",
   "metadata": {},
   "source": [
    "## Add variables to Data Dictionary"
   ]
  },
  {
   "cell_type": "code",
   "execution_count": 6,
   "metadata": {},
   "outputs": [
    {
     "name": "stderr",
     "output_type": "stream",
     "text": [
      "/anaconda3/lib/python3.7/site-packages/pandas/core/indexing.py:1494: FutureWarning: \n",
      "Passing list-likes to .loc or [] with any missing label will raise\n",
      "KeyError in the future, you can use .reindex() as an alternative.\n",
      "\n",
      "See the documentation here:\n",
      "https://pandas.pydata.org/pandas-docs/stable/indexing.html#deprecate-loc-reindex-listlike\n",
      "  return self._getitem_tuple(key)\n"
     ]
    }
   ],
   "source": [
    "data_dictionary = data_dictionary.append([\n",
    "    {\"Variable Code\":\"USDA Model Percent\",\n",
    "    \"Variable Name\":\"33% of the population or more with low access\"},\n",
    "    {\"Variable Code\":\"USDA Model Count\",\n",
    "    \"Variable Name\":\"500 people or more with low access\"},\n",
    "    {\"Variable Code\":\"USDA Model And\",\n",
    "    \"Variable Name\":\"Both 500 people or more and 33% of the population or more with low access\"},\n",
    "    {\"Variable Code\":\"USDA Model Or\",\n",
    "    \"Variable Name\":\"Either 500 people or more or 33% of the population or more with low access\"}],\n",
    "    ignore_index=True)"
   ]
  },
  {
   "cell_type": "markdown",
   "metadata": {},
   "source": [
    "## Save Updated Data Dictionary"
   ]
  },
  {
   "cell_type": "code",
   "execution_count": 7,
   "metadata": {},
   "outputs": [],
   "source": [
    "data_dictionary.to_pickle(Path.joinpath(project_dir, \"data/processed/0_data_dictionary.pickle\"))"
   ]
  }
 ],
 "metadata": {
  "hide_input": false,
  "kernelspec": {
   "display_name": "Python 3",
   "language": "python",
   "name": "python3"
  },
  "language_info": {
   "codemirror_mode": {
    "name": "ipython",
    "version": 3
   },
   "file_extension": ".py",
   "mimetype": "text/x-python",
   "name": "python",
   "nbconvert_exporter": "python",
   "pygments_lexer": "ipython3",
   "version": "3.7.3"
  }
 },
 "nbformat": 4,
 "nbformat_minor": 2
}
