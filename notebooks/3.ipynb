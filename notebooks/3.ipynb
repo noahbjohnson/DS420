{
 "cells": [
  {
   "cell_type": "markdown",
   "metadata": {},
   "source": [
    "# Supplemental Data Cleaning"
   ]
  },
  {
   "cell_type": "code",
   "execution_count": 1,
   "metadata": {},
   "outputs": [],
   "source": [
    "\"\"\" Notebook Setup/Imports\n",
    "\"\"\"\n",
    "\n",
    "# Project path setup\n",
    "from pathlib import Path\n",
    "project_dir = Path(__name__).resolve().parents[1]\n",
    "\n",
    "# Library import\n",
    "import pandas as pd\n",
    "import numpy as np\n",
    "import matplotlib.pyplot as plt\n",
    "\n",
    "# Print strings as markdown\n",
    "from IPython.display import Markdown\n",
    "\n",
    "# Data variables from previous notebook\n",
    "dataset = pd.read_pickle(Path.joinpath(project_dir, \"data/production/data.pickle\"))\n",
    "data_dictionary = pd.read_pickle(Path.joinpath(project_dir, \"data/production/data_dictionary.pickle\"))"
   ]
  },
  {
   "cell_type": "markdown",
   "metadata": {},
   "source": [
    "## Missing Data"
   ]
  },
  {
   "cell_type": "markdown",
   "metadata": {},
   "source": [
    "### Puerto Rico\n",
    "The only data we have for PR is unemployment. We'll have to drop those records (state fips 72xxx)"
   ]
  },
  {
   "cell_type": "code",
   "execution_count": 2,
   "metadata": {},
   "outputs": [],
   "source": [
    "dataset = dataset.loc[:72000]"
   ]
  },
  {
   "cell_type": "code",
   "execution_count": 3,
   "metadata": {},
   "outputs": [
    {
     "data": {
      "text/html": [
       "<div>\n",
       "<style scoped>\n",
       "    .dataframe tbody tr th:only-of-type {\n",
       "        vertical-align: middle;\n",
       "    }\n",
       "\n",
       "    .dataframe tbody tr th {\n",
       "        vertical-align: top;\n",
       "    }\n",
       "\n",
       "    .dataframe thead th {\n",
       "        text-align: right;\n",
       "    }\n",
       "</style>\n",
       "<table border=\"1\" class=\"dataframe\">\n",
       "  <thead>\n",
       "    <tr style=\"text-align: right;\">\n",
       "      <th></th>\n",
       "      <th>count</th>\n",
       "      <th>mean</th>\n",
       "      <th>std</th>\n",
       "      <th>min</th>\n",
       "      <th>25%</th>\n",
       "      <th>50%</th>\n",
       "      <th>75%</th>\n",
       "      <th>max</th>\n",
       "    </tr>\n",
       "  </thead>\n",
       "  <tbody>\n",
       "    <tr>\n",
       "      <th>CI90UB04P_2017</th>\n",
       "      <td>0.0</td>\n",
       "      <td>NaN</td>\n",
       "      <td>NaN</td>\n",
       "      <td>NaN</td>\n",
       "      <td>NaN</td>\n",
       "      <td>NaN</td>\n",
       "      <td>NaN</td>\n",
       "      <td>NaN</td>\n",
       "    </tr>\n",
       "    <tr>\n",
       "      <th>PCTPOV04_2017</th>\n",
       "      <td>0.0</td>\n",
       "      <td>NaN</td>\n",
       "      <td>NaN</td>\n",
       "      <td>NaN</td>\n",
       "      <td>NaN</td>\n",
       "      <td>NaN</td>\n",
       "      <td>NaN</td>\n",
       "      <td>NaN</td>\n",
       "    </tr>\n",
       "    <tr>\n",
       "      <th>School Breakfast Program participants, FY 2012</th>\n",
       "      <td>0.0</td>\n",
       "      <td>NaN</td>\n",
       "      <td>NaN</td>\n",
       "      <td>NaN</td>\n",
       "      <td>NaN</td>\n",
       "      <td>NaN</td>\n",
       "      <td>NaN</td>\n",
       "      <td>NaN</td>\n",
       "    </tr>\n",
       "    <tr>\n",
       "      <th>School Breakfast Program participants FY 2011</th>\n",
       "      <td>0.0</td>\n",
       "      <td>NaN</td>\n",
       "      <td>NaN</td>\n",
       "      <td>NaN</td>\n",
       "      <td>NaN</td>\n",
       "      <td>NaN</td>\n",
       "      <td>NaN</td>\n",
       "      <td>NaN</td>\n",
       "    </tr>\n",
       "    <tr>\n",
       "      <th>CI90LB04P_2017</th>\n",
       "      <td>0.0</td>\n",
       "      <td>NaN</td>\n",
       "      <td>NaN</td>\n",
       "      <td>NaN</td>\n",
       "      <td>NaN</td>\n",
       "      <td>NaN</td>\n",
       "      <td>NaN</td>\n",
       "      <td>NaN</td>\n",
       "    </tr>\n",
       "    <tr>\n",
       "      <th>PCH_GHVEG_SQFT_07_12</th>\n",
       "      <td>340.0</td>\n",
       "      <td>293.407765</td>\n",
       "      <td>1552.882709</td>\n",
       "      <td>-100.0</td>\n",
       "      <td>5.136883</td>\n",
       "      <td>91.526644</td>\n",
       "      <td>247.162519</td>\n",
       "      <td>27641.176471</td>\n",
       "    </tr>\n",
       "    <tr>\n",
       "      <th>PCH_FRESHVEG_ACRES_07_12</th>\n",
       "      <td>1050.0</td>\n",
       "      <td>18.500991</td>\n",
       "      <td>137.106529</td>\n",
       "      <td>-100.0</td>\n",
       "      <td>-43.138924</td>\n",
       "      <td>-6.832298</td>\n",
       "      <td>38.374335</td>\n",
       "      <td>1933.333333</td>\n",
       "    </tr>\n",
       "    <tr>\n",
       "      <th>PCH_GHVEG_FARMS_07_12</th>\n",
       "      <td>1198.0</td>\n",
       "      <td>93.698960</td>\n",
       "      <td>201.700770</td>\n",
       "      <td>-100.0</td>\n",
       "      <td>-25.000000</td>\n",
       "      <td>50.000000</td>\n",
       "      <td>166.666667</td>\n",
       "      <td>1900.000000</td>\n",
       "    </tr>\n",
       "    <tr>\n",
       "      <th>PCH_AGRITRSM_RCT_07_12</th>\n",
       "      <td>1265.0</td>\n",
       "      <td>232.446302</td>\n",
       "      <td>1026.854679</td>\n",
       "      <td>-100.0</td>\n",
       "      <td>-40.782828</td>\n",
       "      <td>22.767857</td>\n",
       "      <td>146.756757</td>\n",
       "      <td>20557.142857</td>\n",
       "    </tr>\n",
       "    <tr>\n",
       "      <th>PCH_BERRY_ACRES_07_12</th>\n",
       "      <td>1271.0</td>\n",
       "      <td>55.640862</td>\n",
       "      <td>222.514271</td>\n",
       "      <td>-100.0</td>\n",
       "      <td>-30.602007</td>\n",
       "      <td>4.317959</td>\n",
       "      <td>66.666667</td>\n",
       "      <td>4400.000000</td>\n",
       "    </tr>\n",
       "  </tbody>\n",
       "</table>\n",
       "</div>"
      ],
      "text/plain": [
       "                                                 count        mean  \\\n",
       "CI90UB04P_2017                                     0.0         NaN   \n",
       "PCTPOV04_2017                                      0.0         NaN   \n",
       "School Breakfast Program participants, FY 2012     0.0         NaN   \n",
       "School Breakfast Program participants FY 2011      0.0         NaN   \n",
       "CI90LB04P_2017                                     0.0         NaN   \n",
       "PCH_GHVEG_SQFT_07_12                             340.0  293.407765   \n",
       "PCH_FRESHVEG_ACRES_07_12                        1050.0   18.500991   \n",
       "PCH_GHVEG_FARMS_07_12                           1198.0   93.698960   \n",
       "PCH_AGRITRSM_RCT_07_12                          1265.0  232.446302   \n",
       "PCH_BERRY_ACRES_07_12                           1271.0   55.640862   \n",
       "\n",
       "                                                        std    min        25%  \\\n",
       "CI90UB04P_2017                                          NaN    NaN        NaN   \n",
       "PCTPOV04_2017                                           NaN    NaN        NaN   \n",
       "School Breakfast Program participants, FY 2012          NaN    NaN        NaN   \n",
       "School Breakfast Program participants FY 2011           NaN    NaN        NaN   \n",
       "CI90LB04P_2017                                          NaN    NaN        NaN   \n",
       "PCH_GHVEG_SQFT_07_12                            1552.882709 -100.0   5.136883   \n",
       "PCH_FRESHVEG_ACRES_07_12                         137.106529 -100.0 -43.138924   \n",
       "PCH_GHVEG_FARMS_07_12                            201.700770 -100.0 -25.000000   \n",
       "PCH_AGRITRSM_RCT_07_12                          1026.854679 -100.0 -40.782828   \n",
       "PCH_BERRY_ACRES_07_12                            222.514271 -100.0 -30.602007   \n",
       "\n",
       "                                                      50%         75%  \\\n",
       "CI90UB04P_2017                                        NaN         NaN   \n",
       "PCTPOV04_2017                                         NaN         NaN   \n",
       "School Breakfast Program participants, FY 2012        NaN         NaN   \n",
       "School Breakfast Program participants FY 2011         NaN         NaN   \n",
       "CI90LB04P_2017                                        NaN         NaN   \n",
       "PCH_GHVEG_SQFT_07_12                            91.526644  247.162519   \n",
       "PCH_FRESHVEG_ACRES_07_12                        -6.832298   38.374335   \n",
       "PCH_GHVEG_FARMS_07_12                           50.000000  166.666667   \n",
       "PCH_AGRITRSM_RCT_07_12                          22.767857  146.756757   \n",
       "PCH_BERRY_ACRES_07_12                            4.317959   66.666667   \n",
       "\n",
       "                                                         max  \n",
       "CI90UB04P_2017                                           NaN  \n",
       "PCTPOV04_2017                                            NaN  \n",
       "School Breakfast Program participants, FY 2012           NaN  \n",
       "School Breakfast Program participants FY 2011            NaN  \n",
       "CI90LB04P_2017                                           NaN  \n",
       "PCH_GHVEG_SQFT_07_12                            27641.176471  \n",
       "PCH_FRESHVEG_ACRES_07_12                         1933.333333  \n",
       "PCH_GHVEG_FARMS_07_12                            1900.000000  \n",
       "PCH_AGRITRSM_RCT_07_12                          20557.142857  \n",
       "PCH_BERRY_ACRES_07_12                            4400.000000  "
      ]
     },
     "execution_count": 3,
     "metadata": {},
     "output_type": "execute_result"
    }
   ],
   "source": [
    "des = dataset.describe().transpose()\n",
    "missing = des[des['count'] < 3100].sort_values('count',ascending=True)\n",
    "missing.head(10)"
   ]
  },
  {
   "cell_type": "code",
   "execution_count": 4,
   "metadata": {},
   "outputs": [],
   "source": [
    "# drop <500\n",
    "cols_to_drop = missing[missing['count']<500].index.values.tolist()\n",
    "dataset.drop(cols_to_drop, axis='columns', inplace=True)"
   ]
  },
  {
   "cell_type": "code",
   "execution_count": 5,
   "metadata": {},
   "outputs": [
    {
     "data": {
      "text/html": [
       "<div>\n",
       "<style scoped>\n",
       "    .dataframe tbody tr th:only-of-type {\n",
       "        vertical-align: middle;\n",
       "    }\n",
       "\n",
       "    .dataframe tbody tr th {\n",
       "        vertical-align: top;\n",
       "    }\n",
       "\n",
       "    .dataframe thead th {\n",
       "        text-align: right;\n",
       "    }\n",
       "</style>\n",
       "<table border=\"1\" class=\"dataframe\">\n",
       "  <thead>\n",
       "    <tr style=\"text-align: right;\">\n",
       "      <th></th>\n",
       "      <th>count</th>\n",
       "      <th>mean</th>\n",
       "      <th>std</th>\n",
       "      <th>min</th>\n",
       "      <th>25%</th>\n",
       "      <th>50%</th>\n",
       "      <th>75%</th>\n",
       "      <th>max</th>\n",
       "    </tr>\n",
       "  </thead>\n",
       "  <tbody>\n",
       "    <tr>\n",
       "      <th>PCH_FRESHVEG_ACRES_07_12</th>\n",
       "      <td>1050.0</td>\n",
       "      <td>18.500991</td>\n",
       "      <td>137.106529</td>\n",
       "      <td>-100.0</td>\n",
       "      <td>-43.138924</td>\n",
       "      <td>-6.832298</td>\n",
       "      <td>38.374335</td>\n",
       "      <td>1933.333333</td>\n",
       "    </tr>\n",
       "    <tr>\n",
       "      <th>PCH_GHVEG_FARMS_07_12</th>\n",
       "      <td>1198.0</td>\n",
       "      <td>93.698960</td>\n",
       "      <td>201.700770</td>\n",
       "      <td>-100.0</td>\n",
       "      <td>-25.000000</td>\n",
       "      <td>50.000000</td>\n",
       "      <td>166.666667</td>\n",
       "      <td>1900.000000</td>\n",
       "    </tr>\n",
       "    <tr>\n",
       "      <th>PCH_AGRITRSM_RCT_07_12</th>\n",
       "      <td>1265.0</td>\n",
       "      <td>232.446302</td>\n",
       "      <td>1026.854679</td>\n",
       "      <td>-100.0</td>\n",
       "      <td>-40.782828</td>\n",
       "      <td>22.767857</td>\n",
       "      <td>146.756757</td>\n",
       "      <td>20557.142857</td>\n",
       "    </tr>\n",
       "    <tr>\n",
       "      <th>PCH_BERRY_ACRES_07_12</th>\n",
       "      <td>1271.0</td>\n",
       "      <td>55.640862</td>\n",
       "      <td>222.514271</td>\n",
       "      <td>-100.0</td>\n",
       "      <td>-30.602007</td>\n",
       "      <td>4.317959</td>\n",
       "      <td>66.666667</td>\n",
       "      <td>4400.000000</td>\n",
       "    </tr>\n",
       "    <tr>\n",
       "      <th>FRESHVEG_ACRESPTH07</th>\n",
       "      <td>1840.0</td>\n",
       "      <td>19.919106</td>\n",
       "      <td>102.498308</td>\n",
       "      <td>0.0</td>\n",
       "      <td>0.315125</td>\n",
       "      <td>1.440052</td>\n",
       "      <td>4.833024</td>\n",
       "      <td>1831.927101</td>\n",
       "    </tr>\n",
       "  </tbody>\n",
       "</table>\n",
       "</div>"
      ],
      "text/plain": [
       "                           count        mean          std    min        25%  \\\n",
       "PCH_FRESHVEG_ACRES_07_12  1050.0   18.500991   137.106529 -100.0 -43.138924   \n",
       "PCH_GHVEG_FARMS_07_12     1198.0   93.698960   201.700770 -100.0 -25.000000   \n",
       "PCH_AGRITRSM_RCT_07_12    1265.0  232.446302  1026.854679 -100.0 -40.782828   \n",
       "PCH_BERRY_ACRES_07_12     1271.0   55.640862   222.514271 -100.0 -30.602007   \n",
       "FRESHVEG_ACRESPTH07       1840.0   19.919106   102.498308    0.0   0.315125   \n",
       "\n",
       "                                50%         75%           max  \n",
       "PCH_FRESHVEG_ACRES_07_12  -6.832298   38.374335   1933.333333  \n",
       "PCH_GHVEG_FARMS_07_12     50.000000  166.666667   1900.000000  \n",
       "PCH_AGRITRSM_RCT_07_12    22.767857  146.756757  20557.142857  \n",
       "PCH_BERRY_ACRES_07_12      4.317959   66.666667   4400.000000  \n",
       "FRESHVEG_ACRESPTH07        1.440052    4.833024   1831.927101  "
      ]
     },
     "execution_count": 5,
     "metadata": {},
     "output_type": "execute_result"
    }
   ],
   "source": [
    "des = dataset.describe().transpose()\n",
    "missing = des[des['count'] < 3100].sort_values('count',ascending=True)\n",
    "missing.head()"
   ]
  },
  {
   "cell_type": "code",
   "execution_count": 6,
   "metadata": {},
   "outputs": [],
   "source": [
    "missing_ratios = 1- (missing['count'] / len(dataset))\n",
    "missing[\"missing_ratio\"] = missing_ratios\n",
    "missing = missing[[\"count\",\"missing_ratio\"]]"
   ]
  },
  {
   "cell_type": "code",
   "execution_count": 7,
   "metadata": {},
   "outputs": [
    {
     "data": {
      "text/plain": [
       "17"
      ]
     },
     "execution_count": 7,
     "metadata": {},
     "output_type": "execute_result"
    }
   ],
   "source": [
    "# Columns missing more than 1/3 of the data\n",
    "len(missing[missing['missing_ratio'] > .33])"
   ]
  },
  {
   "cell_type": "code",
   "execution_count": 8,
   "metadata": {},
   "outputs": [],
   "source": [
    "# drop <2/3\n",
    "cols_to_drop = missing[missing['missing_ratio'] > .33].index.values.tolist()\n",
    "dataset.drop(cols_to_drop, axis='columns', inplace=True)"
   ]
  },
  {
   "cell_type": "markdown",
   "metadata": {},
   "source": [
    "## Meta or Unneeded Variables"
   ]
  },
  {
   "cell_type": "code",
   "execution_count": 9,
   "metadata": {},
   "outputs": [],
   "source": [
    "if 'index' in dataset.columns.values.tolist():\n",
    "    dataset.set_index(\"index\", inplace=True)"
   ]
  },
  {
   "cell_type": "markdown",
   "metadata": {},
   "source": [
    "### Clean up Data Dictionary Orphans"
   ]
  },
  {
   "cell_type": "code",
   "execution_count": 10,
   "metadata": {},
   "outputs": [],
   "source": [
    "remaining_columns = dataset.columns.values.tolist()\n",
    "dd_columns = data_dictionary['Variable Code'].values.tolist()"
   ]
  },
  {
   "cell_type": "code",
   "execution_count": 11,
   "metadata": {},
   "outputs": [
    {
     "name": "stdout",
     "output_type": "stream",
     "text": [
      "2010 Census Population\n",
      "LACCESS_CHILD_10_15\n",
      "StateFIPS \n",
      "WIC participants FY 2009\n",
      "National School Lunch Program participants FY 2009\n",
      "School Breakfast Program participants FY 2009\n",
      "Child and Adult Care particpants FY 2009\n",
      "Summer Food particpants FY 2009\n",
      "State Population, 2009\n",
      "USDA Model\n",
      "Less than a high school diploma, 2013-17\n",
      "High school diploma only, 2013-17\n",
      "Some college or associate's degree, 2013-17\n",
      "Bachelor's degree or higher, 2013-17\n",
      "Percent of adults with less than a high school diploma, 2013-17\n",
      "Percent of adults with a high school diploma only, 2013-17\n",
      "Percent of adults completing some college or associate's degree, 2013-17\n",
      "Percent of adults with a bachelor's degree or higher, 2013-17\n"
     ]
    }
   ],
   "source": [
    "orphans = [] # columns in dataset not in the data dictionary\n",
    "for col in remaining_columns:\n",
    "    if col not in dd_columns:\n",
    "        print(col)\n",
    "        orphans.append(col)"
   ]
  },
  {
   "cell_type": "code",
   "execution_count": 12,
   "metadata": {},
   "outputs": [],
   "source": [
    "# Drop state info from 2009\n",
    "o_nine_columns = ['WIC participants FY 2009',\n",
    "'National School Lunch Program participants FY 2009',\n",
    "'School Breakfast Program participants FY 2009',\n",
    "'Child and Adult Care particpants FY 2009',\n",
    "'Summer Food particpants FY 2009',\n",
    "'State Population, 2009']\n",
    "\n",
    "dataset.drop(o_nine_columns, axis=\"columns\", inplace=True)"
   ]
  },
  {
   "cell_type": "code",
   "execution_count": 13,
   "metadata": {},
   "outputs": [],
   "source": [
    "# add self-explainitory columns to dictionary\n",
    "edu_cols = ['''Less than a high school diploma, 2013-17''',\n",
    "            '''High school diploma only, 2013-17''',\n",
    "            '''Some college or associate's degree, 2013-17''',\n",
    "            '''Bachelor's degree or higher, 2013-17''',\n",
    "            '''Percent of adults with less than a high school diploma, 2013-17''',\n",
    "            '''Percent of adults with a high school diploma only, 2013-17''',\n",
    "            '''Percent of adults completing some college or associate's degree, 2013-17''',\n",
    "            '''Percent of adults with a bachelor's degree or higher, 2013-17''',\n",
    "            '''2010 Census Population''']\n",
    "data_dictionary = pd.concat([data_dictionary,\n",
    "                           pd.DataFrame({\n",
    "                               'Variable Name': edu_cols,\n",
    "                               'Variable Code': edu_cols\n",
    "                           })],sort=False)"
   ]
  },
  {
   "cell_type": "code",
   "execution_count": 14,
   "metadata": {},
   "outputs": [
    {
     "name": "stdout",
     "output_type": "stream",
     "text": [
      "LACCESS_CHILD_10_15\n",
      "StateFIPS \n"
     ]
    }
   ],
   "source": [
    "remaining_columns = dataset.columns.values.tolist()\n",
    "dd_columns = data_dictionary['Variable Code'].values.tolist()\n",
    "orphans = [] # columns in dataset not in the data dictionary\n",
    "for col in remaining_columns:\n",
    "    if col not in dd_columns:\n",
    "        if col != \"USDA Model\":\n",
    "            print(col)\n",
    "            orphans.append(col)"
   ]
  },
  {
   "cell_type": "code",
   "execution_count": 15,
   "metadata": {},
   "outputs": [],
   "source": [
    "# Drop orphans\n",
    "dataset.drop(orphans, axis=\"columns\", inplace=True)"
   ]
  },
  {
   "cell_type": "code",
   "execution_count": 16,
   "metadata": {},
   "outputs": [
    {
     "name": "stdout",
     "output_type": "stream",
     "text": [
      "There are 122 columns in the dictionary that are not in the dataset. \n",
      "There are 254 columns in the dictionary that ARE in the dataset\n",
      "\n",
      "There are 255 columns in the dataset, and 254 matches in the data dictionary.\n",
      "There should be a difference of one for the response variable\n"
     ]
    }
   ],
   "source": [
    "# Remove unneeded entries from the data_dictionary\n",
    "remaining_columns = dataset.columns.values.tolist()\n",
    "dd_in_dataset_mask = data_dictionary['Variable Code'].apply(lambda x: x in remaining_columns)\n",
    "print(\"There are {} columns in the dictionary that are not in the dataset. \\n\\\n",
    "There are {} columns in the dictionary that ARE in the dataset\".format(\n",
    "    sum(~dd_in_dataset_mask),sum(dd_in_dataset_mask)))\n",
    "print(\"\\nThere are {} columns in the dataset, and {} matches in the data dictionary.\\n\\\n",
    "There should be a difference of one for the response variable\".format(len(dataset.columns),sum(dd_in_dataset_mask)))"
   ]
  },
  {
   "cell_type": "code",
   "execution_count": 17,
   "metadata": {},
   "outputs": [],
   "source": [
    "data_dictionary = data_dictionary[dd_in_dataset_mask]"
   ]
  },
  {
   "cell_type": "markdown",
   "metadata": {},
   "source": [
    "## Year-based data outside of the target range (2015)"
   ]
  },
  {
   "cell_type": "code",
   "execution_count": 18,
   "metadata": {},
   "outputs": [],
   "source": [
    "out_of_range_cols = [\n",
    "\"PCH_GROC_09_14\",\n",
    "\"GROCPTH09\",\n",
    "\"SUPERC09\",\n",
    "\"PCH_SUPERC_09_14\",\n",
    "\"SUPERCPTH09\",\n",
    "\"CONVS09\",\n",
    "\"PCH_CONVS_09_14\",\n",
    "\"CONVSPTH09\",\n",
    "\"SPECS09\",\n",
    "\"PCH_SPECS_09_14\",\n",
    "\"SPECSPTH09\",\n",
    "\"SNAPS12\",\n",
    "\"PCH_SNAPS_12_16\",\n",
    "\"SNAPSPTH12\",\n",
    "\"WICS08\",\n",
    "\"PCH_WICS_08_12\",\n",
    "\"WICSPTH08\",\n",
    "\"FFR09\",\n",
    "\"PCH_FFR_09_14\",\n",
    "\"FFRPTH09\",\n",
    "\"FSR09\",\n",
    "\"PCH_FSR_09_14\",\n",
    "\"FSRPTH09\",\n",
    "\"PC_FFRSALES07\",\n",
    "\"PC_FSRSALES07\",\n",
    "\"REDEMP_SNAPS12\",\n",
    "\"PCH_REDEMP_SNAPS_12_16\",\n",
    "\"PCT_SNAP12\",\n",
    "\"PCH_SNAP_12_16\",\n",
    "\"PC_SNAPBEN10\",\n",
    "\"PCH_PC_SNAPBEN_10_15\",\n",
    "\"SNAP_PART_RATE08\",\n",
    "\"SNAP_OAPP09\",\n",
    "\"SNAP_CAP09\",\n",
    "\"SNAP_BBCE09\",\n",
    "\"SNAP_REPORTSIMPLE09\",\n",
    "\"PCT_NSLP09\",\n",
    "\"PCH_NSLP_09_15\",\n",
    "\"PCT_FREE_LUNCH09\",\n",
    "\"PCT_REDUCED_LUNCH09\",\n",
    "\"PCT_SBP09\",\n",
    "\"PCH_SBP_09_15\",\n",
    "\"PCT_SFSP09\",\n",
    "\"PCH_SFSP_09_15\",\n",
    "\"PCT_WIC09\",\n",
    "\"PCH_WIC_09_15\",\n",
    "\"PCT_CACFP09\",\n",
    "\"PCH_CACFP_09_15\",\n",
    "\"FOODINSEC_10_12\",\n",
    "\"CH_FOODINSEC_12_15\",\n",
    "\"VLFOODSEC_10_12\",\n",
    "\"CH_VLFOODSEC_12_15\",\n",
    "\"FOODINSEC_CHILD_01_07\",\n",
    "\"FOODINSEC_CHILD_03_11\",\n",
    "\"MILK_PRICE10\",\n",
    "\"SODA_PRICE10\",\n",
    "\"MILK_SODA_PRICE10\",\n",
    "\"DIRSALES_FARMS07\",\n",
    "\"DIRSALES_FARMS12\",\n",
    "\"PCH_DIRSALES_FARMS_07_12\",\n",
    "\"PCT_LOCLFARM07\",\n",
    "\"PCT_LOCLFARM12\",\n",
    "\"PCT_LOCLSALE07\",\n",
    "\"PCT_LOCLSALE12\",\n",
    "\"DIRSALES07\",\n",
    "\"DIRSALES12\",\n",
    "\"PCH_DIRSALES_07_12\",\n",
    "\"PC_DIRSALES07\",\n",
    "\"PC_DIRSALES12\",\n",
    "\"FMRKT09\",\n",
    "\"PCH_FMRKT_09_16\",\n",
    "\"FMRKTPTH09\",\n",
    "\"VEG_FARMS07\",\n",
    "\"PCH_VEG_FARMS_07_12\",\n",
    "\"VEG_ACRES07\",\n",
    "\"VEG_ACRESPTH07\",\n",
    "\"PCH_VEG_ACRESPTH_07_12\",\n",
    "\"FRESHVEG_FARMS07\",\n",
    "\"PCH_FRESHVEG_FARMS_07_12\",\n",
    "\"ORCHARD_FARMS07\",\n",
    "\"PCH_ORCHARD_FARMS_07_12\",\n",
    "\"ORCHARD_ACRES07\",\n",
    "\"ORCHARD_ACRESPTH07\",\n",
    "\"BERRY_FARMS07\",\n",
    "\"PCH_BERRY_FARMS_07_12\",\n",
    "\"BERRY_ACRES07\",\n",
    "\"BERRY_ACRESPTH07\",\n",
    "\"SLHOUSE07\",\n",
    "\"PCH_SLHOUSE_07_12\",\n",
    "\"GHVEG_FARMS07\",\n",
    "\"GHVEG_SQFT07\",\n",
    "\"GHVEG_SQFTPTH07\",\n",
    "\"CSA07\",\n",
    "\"PCH_CSA_07_12\",\n",
    "\"AGRITRSM_OPS07\",\n",
    "\"PCH_AGRITRSM_OPS_07_12\",\n",
    "\"FARM_TO_SCHOOL09\",\n",
    "\"PCT_DIABETES_ADULTS08\",\n",
    "\"PCT_OBESE_ADULTS08\",\n",
    "\"RECFAC09\",\n",
    "\"RECFACPTH09\",\n",
    "\"PERPOV10\",\n",
    "\"PERCHLDPOV10\",\n",
    "\"CI90UB517P_2017\",\n",
    "\"POPLOSS10\"]"
   ]
  },
  {
   "cell_type": "code",
   "execution_count": 19,
   "metadata": {},
   "outputs": [],
   "source": [
    "dataset.drop(out_of_range_cols, axis=\"columns\", inplace=True)"
   ]
  },
  {
   "cell_type": "markdown",
   "metadata": {},
   "source": [
    "## Sparse Rows"
   ]
  },
  {
   "cell_type": "code",
   "execution_count": 20,
   "metadata": {},
   "outputs": [],
   "source": [
    "n_cols = len(dataset.columns.values)\n",
    "nulls_ratio = dataset.isna().sum(axis=1).apply(lambda x: x/n_cols)"
   ]
  },
  {
   "cell_type": "code",
   "execution_count": 21,
   "metadata": {},
   "outputs": [
    {
     "data": {
      "image/png": "[encoded data removed]",
      "text/plain": [
       "<Figure size 432x288 with 1 Axes>"
      ]
     },
     "metadata": {
      "needs_background": "light"
     },
     "output_type": "display_data"
    }
   ],
   "source": [
    "nulls_ratio.hist(bins=50);"
   ]
  },
  {
   "cell_type": "code",
   "execution_count": 22,
   "metadata": {},
   "outputs": [],
   "source": [
    "get_proportion_nulls = lambda x: sum(nulls_ratio > x) / len(dataset)\n",
    "missing_prop = {}\n",
    "for i in range(0, 100, 2): \n",
    "    null_prop = get_proportion_nulls(i/100)\n",
    "    if null_prop > 0:\n",
    "        missing_prop[i/100] = null_prop"
   ]
  },
  {
   "cell_type": "code",
   "execution_count": 23,
   "metadata": {},
   "outputs": [
    {
     "data": {
      "image/png": "[encoded data removed]",
      "text/plain": [
       "<Figure size 432x288 with 1 Axes>"
      ]
     },
     "metadata": {
      "needs_background": "light"
     },
     "output_type": "display_data"
    }
   ],
   "source": [
    "x = list(missing_prop.keys())\n",
    "y = list(missing_prop.values())\n",
    "ax = plt.plot(x,y)\n",
    "plt.xlabel(\"Threshold for ratio of missing values\")\n",
    "plt.ylabel(\"Ratio of records removed\");"
   ]
  },
  {
   "cell_type": "code",
   "execution_count": 24,
   "metadata": {},
   "outputs": [],
   "source": [
    "dataset = dataset[nulls_ratio < .175]"
   ]
  },
  {
   "cell_type": "markdown",
   "metadata": {},
   "source": [
    "## Split Low Access Variables from Dataset \n",
    "These may be interesting for further modeling, but they're bound to be highly correlated with the response and other deographics."
   ]
  },
  {
   "cell_type": "code",
   "execution_count": 25,
   "metadata": {},
   "outputs": [],
   "source": [
    "access_columns = data_dictionary[data_dictionary['Category Code'] == \"ACCESS\"]['Variable Code']"
   ]
  },
  {
   "cell_type": "code",
   "execution_count": 26,
   "metadata": {},
   "outputs": [],
   "source": [
    "access_dataset = dataset[access_columns]"
   ]
  },
  {
   "cell_type": "code",
   "execution_count": 27,
   "metadata": {},
   "outputs": [],
   "source": [
    "dataset.drop(access_columns, axis=\"columns\",inplace=True)"
   ]
  },
  {
   "cell_type": "markdown",
   "metadata": {},
   "source": [
    "## Save data"
   ]
  },
  {
   "cell_type": "code",
   "execution_count": 28,
   "metadata": {},
   "outputs": [],
   "source": [
    "dataset.to_csv(\"../data/production/clean_dataset.csv\")\n",
    "access_dataset.to_csv(\"../data/production/clean_access_dataset.csv\")\n",
    "data_dictionary.to_csv(\"../data/production/clean_data_dictionary.csv\")\n",
    "\n",
    "dataset.to_pickle(\"../data/production/clean_dataset.pickle\")\n",
    "access_dataset.to_pickle(\"../data/production/clean_access_dataset.pickle\")\n",
    "data_dictionary.to_pickle(\"../data/production/clean_data_dictionary.pickle\")"
   ]
  }
 ],
 "metadata": {
  "kernelspec": {
   "display_name": "Python 3",
   "language": "python",
   "name": "python3"
  },
  "language_info": {
   "codemirror_mode": {
    "name": "ipython",
    "version": 3
   },
   "file_extension": ".py",
   "mimetype": "text/x-python",
   "name": "python",
   "nbconvert_exporter": "python",
   "pygments_lexer": "ipython3",
   "version": "3.6.8"
  }
 },
 "nbformat": 4,
 "nbformat_minor": 2
}
