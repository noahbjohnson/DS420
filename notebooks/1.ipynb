{
 "cells": [
  {
   "cell_type": "markdown",
   "metadata": {},
   "source": [
    "# 2: Cleaning and Profiling"
   ]
  },
  {
   "cell_type": "code",
   "execution_count": 1,
   "metadata": {},
   "outputs": [],
   "source": [
    "\"\"\" Notebook Setup/Imports\n",
    "\"\"\"\n",
    "\n",
    "# Project path setup\n",
    "from pathlib import Path\n",
    "project_dir = Path(__name__).resolve().parents[1]\n",
    "\n",
    "# Library import\n",
    "import pandas as pd\n",
    "import numpy as np\n",
    "import pandas_profiling\n",
    "\n",
    "# Print strings as markdown\n",
    "from IPython.display import Markdown\n",
    "\n",
    "# Data variables from previous notebook\n",
    "dataset = pd.read_pickle(Path.joinpath(project_dir, \"data/processed/0_data.pickle\"))\n",
    "data_dictionary = pd.read_pickle(Path.joinpath(project_dir, \"data/processed/0_data_dictionary.pickle\"))"
   ]
  },
  {
   "cell_type": "markdown",
   "metadata": {},
   "source": [
    "## Data Type Validation & Cleaning"
   ]
  },
  {
   "cell_type": "code",
   "execution_count": 2,
   "metadata": {},
   "outputs": [
    {
     "data": {
      "text/plain": [
       "bool         4\n",
       "float64    314\n",
       "object       9\n",
       "dtype: int64"
      ]
     },
     "execution_count": 2,
     "metadata": {},
     "output_type": "execute_result"
    }
   ],
   "source": [
    "\"\"\" Get the count for data types in the dataset\n",
    "\"\"\"\n",
    "d = dataset.dtypes\n",
    "dataset.get_dtype_counts()"
   ]
  },
  {
   "cell_type": "code",
   "execution_count": 3,
   "metadata": {},
   "outputs": [
    {
     "name": "stdout",
     "output_type": "stream",
     "text": [
      "['2010 Census Population', 'Population Estimate, 2011', 'Population Estimate, 2012', 'Population Estimate, 2013', 'Population Estimate, 2014', 'Population Estimate, 2015', 'Population Estimate, 2016', 'School Breakfast Program participants FY 2011', 'School Breakfast Program participants, FY 2012']\n"
     ]
    }
   ],
   "source": [
    "\"\"\" Find columns as strings or other objects\n",
    "\"\"\"\n",
    "object_columns = d[d == 'object'].index.to_list()\n",
    "print(object_columns)"
   ]
  },
  {
   "cell_type": "code",
   "execution_count": 4,
   "metadata": {},
   "outputs": [],
   "source": [
    "\"\"\" Parse objects to float\n",
    "\"\"\"\n",
    "for column in object_columns:\n",
    "    sub = dataset[column].str.replace(\",\",\"\").str.replace(\"-\",\"\").str.strip().apply(lambda x: np.nan if x == \"\" else x)\n",
    "    dataset[column] = sub.astype(float)"
   ]
  },
  {
   "cell_type": "code",
   "execution_count": 5,
   "metadata": {},
   "outputs": [
    {
     "data": {
      "text/plain": [
       "bool         4\n",
       "float64    323\n",
       "dtype: int64"
      ]
     },
     "execution_count": 5,
     "metadata": {},
     "output_type": "execute_result"
    }
   ],
   "source": [
    "\"\"\" Check types\n",
    "\"\"\"\n",
    "dataset.get_dtype_counts()"
   ]
  },
  {
   "cell_type": "code",
   "execution_count": 6,
   "metadata": {},
   "outputs": [],
   "source": [
    "\"\"\" Save the cleaned data\n",
    "\"\"\"\n",
    "dataset.to_pickle(Path.joinpath(project_dir, \"data/processed/1_data.pickle\"))\n",
    "data_dictionary.to_pickle(Path.joinpath(project_dir, \"data/processed/1_data_dictionary.pickle\"))"
   ]
  },
  {
   "cell_type": "code",
   "execution_count": 7,
   "metadata": {},
   "outputs": [],
   "source": [
    "\"\"\" Create the data profile object and save it to an HTML file\n",
    "\"\"\"\n",
    "profile = pandas_profiling.ProfileReport(dataset, check_recoded=True)\n",
    "profile.to_file(outputfile=\"../docs/_static/profile.html\")"
   ]
  },
  {
   "cell_type": "markdown",
   "metadata": {},
   "source": [
    "## Variable Selection"
   ]
  },
  {
   "cell_type": "code",
   "execution_count": 15,
   "metadata": {},
   "outputs": [],
   "source": [
    "\"\"\" Create a list of rejected variables with > .975 correlation from the profile analysis\n",
    "\"\"\"\n",
    "rejected_variables = profile.get_rejected_variables(.975)"
   ]
  },
  {
   "cell_type": "code",
   "execution_count": 16,
   "metadata": {},
   "outputs": [
    {
     "data": {
      "text/plain": [
       "['BERRY_ACRES12',\n",
       " 'BERRY_ACRESPTH12',\n",
       " 'CONVS14',\n",
       " 'Child and Adult Care participants, FY 2012',\n",
       " 'Child and Adult Care participants, FY 2013',\n",
       " 'Child and Adult Care participants, FY 2014',\n",
       " 'Child and Adult Care participants, FY 2015',\n",
       " 'Child and Adult Care particpants FY 2011',\n",
       " 'FFR14',\n",
       " 'FMRKT_BAKED16',\n",
       " 'FMRKT_OTHERFOOD16',\n",
       " 'FOOD_TAX14',\n",
       " 'FRESHVEG_ACRES12',\n",
       " 'FSR14',\n",
       " 'GROC14',\n",
       " 'LACCESS_CHILD15',\n",
       " 'LACCESS_LOWI15',\n",
       " 'LACCESS_POP15',\n",
       " 'LACCESS_SENIORS15',\n",
       " 'National School Lunch Program participants FY 2011',\n",
       " 'National School Lunch Program participants, FY 2012',\n",
       " 'National School Lunch Program participants, FY 2013',\n",
       " 'National School Lunch Program participants, FY 2014',\n",
       " 'National School Lunch Program participants, FY 2015',\n",
       " 'ORCHARD_ACRES12',\n",
       " 'ORCHARD_FARMS12',\n",
       " 'PCH_BERRY_ACRESPTH_07_12',\n",
       " 'PCH_CONVSPTH_09_14',\n",
       " 'PCH_FFRPTH_09_14',\n",
       " 'PCH_FMRKTPTH_09_16',\n",
       " 'PCH_FRESHVEG_ACRESPTH_07_12',\n",
       " 'PCH_FSRPTH_09_14',\n",
       " 'PCH_GHVEG_SQFTPTH_07_12',\n",
       " 'PCH_GROCPTH_09_14',\n",
       " 'PCH_LACCESS_LOWI_10_15',\n",
       " 'PCH_LACCESS_SENIORS_10_15',\n",
       " 'PCH_ORCHARD_ACRESPTH_07_12',\n",
       " 'PCH_PC_DIRSALES_07_12',\n",
       " 'PCH_RECFACPTH_09_14',\n",
       " 'PCH_SNAPSPTH_12_16',\n",
       " 'PCH_SPECSPTH_09_14',\n",
       " 'PCH_SUPERCPTH_09_14',\n",
       " 'PCH_WICSPTH_08_12',\n",
       " 'PCT_NSLP15',\n",
       " 'Population Estimate, 2011',\n",
       " 'Population Estimate, 2012',\n",
       " 'Population Estimate, 2013',\n",
       " 'Population Estimate, 2014',\n",
       " 'Population Estimate, 2015',\n",
       " 'Population Estimate, 2016',\n",
       " 'RECFAC14',\n",
       " 'SNAPS16',\n",
       " 'SPECS14',\n",
       " 'SUPERC14',\n",
       " 'School Breakfast Program participants, FY 2013',\n",
       " 'School Breakfast Program participants, FY 2014',\n",
       " 'School Breakfast Program participants, FY 2015',\n",
       " 'State Population,  2011',\n",
       " 'State Population,  2013',\n",
       " 'State Population,  2014',\n",
       " 'State Population,  2015',\n",
       " 'State Population,  2016',\n",
       " 'State Population, 2010',\n",
       " 'State Population, 2012',\n",
       " 'Summer Food participants FY 2011',\n",
       " 'Summer Food participants, FY 2012',\n",
       " 'Summer Food participants, FY 2013',\n",
       " 'Summer Food participants, FY 2014',\n",
       " 'Summer Food participants, FY 2015',\n",
       " 'USDA Model And',\n",
       " 'USDA Model Or',\n",
       " 'VEG_ACRES12',\n",
       " 'VEG_ACRESPTH12',\n",
       " 'WIC participants FY 2011',\n",
       " 'WIC participants, FY 2012',\n",
       " 'WIC participants, FY 2013',\n",
       " 'WIC participants, FY 2014',\n",
       " 'WIC participants, FY 2015',\n",
       " 'WICS12']"
      ]
     },
     "execution_count": 16,
     "metadata": {},
     "output_type": "execute_result"
    }
   ],
   "source": [
    "rejected_variables"
   ]
  },
  {
   "cell_type": "code",
   "execution_count": null,
   "metadata": {},
   "outputs": [],
   "source": []
  }
 ],
 "metadata": {
  "hide_input": false,
  "kernelspec": {
   "display_name": "Python 3",
   "language": "python",
   "name": "python3"
  },
  "language_info": {
   "codemirror_mode": {
    "name": "ipython",
    "version": 3
   },
   "file_extension": ".py",
   "mimetype": "text/x-python",
   "name": "python",
   "nbconvert_exporter": "python",
   "pygments_lexer": "ipython3",
   "version": "3.7.1"
  }
 },
 "nbformat": 4,
 "nbformat_minor": 2
}
