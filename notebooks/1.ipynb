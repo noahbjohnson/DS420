{
 "cells": [
  {
   "cell_type": "markdown",
   "metadata": {},
   "source": [
    "# Cleaning and Profiling"
   ]
  },
  {
   "cell_type": "code",
   "execution_count": 1,
   "metadata": {},
   "outputs": [],
   "source": [
    "\"\"\" Notebook Setup/Imports\n",
    "\"\"\"\n",
    "\n",
    "# Project path setup\n",
    "from pathlib import Path\n",
    "project_dir = Path(__name__).resolve().parents[1]\n",
    "\n",
    "# Library import\n",
    "import pandas as pd\n",
    "import numpy as np\n",
    "import pandas_profiling\n",
    "\n",
    "# Print strings as markdown\n",
    "from IPython.display import Markdown\n",
    "\n",
    "# Data variables from previous notebook\n",
    "dataset = pd.read_pickle(Path.joinpath(project_dir, \"data/processed/0_data.pickle\"))\n",
    "data_dictionary = pd.read_pickle(Path.joinpath(project_dir, \"data/processed/0_data_dictionary.pickle\"))"
   ]
  },
  {
   "cell_type": "markdown",
   "metadata": {},
   "source": [
    "## Data Type Validation & Cleaning"
   ]
  },
  {
   "cell_type": "code",
   "execution_count": 2,
   "metadata": {},
   "outputs": [
    {
     "data": {
      "text/plain": [
       "bool         4\n",
       "float64    314\n",
       "object       9\n",
       "dtype: int64"
      ]
     },
     "execution_count": 2,
     "metadata": {},
     "output_type": "execute_result"
    }
   ],
   "source": [
    "\"\"\" Get the count for data types in the dataset\n",
    "\"\"\"\n",
    "d = dataset.dtypes\n",
    "dataset.get_dtype_counts()"
   ]
  },
  {
   "cell_type": "code",
   "execution_count": 3,
   "metadata": {},
   "outputs": [
    {
     "name": "stdout",
     "output_type": "stream",
     "text": [
      "['2010 Census Population', 'Population Estimate, 2011', 'Population Estimate, 2012', 'Population Estimate, 2013', 'Population Estimate, 2014', 'Population Estimate, 2015', 'Population Estimate, 2016', 'School Breakfast Program participants FY 2011', 'School Breakfast Program participants, FY 2012']\n"
     ]
    }
   ],
   "source": [
    "\"\"\" Find columns as strings or other objects\n",
    "\"\"\"\n",
    "object_columns = d[d == 'object'].index.to_list()\n",
    "print(object_columns)"
   ]
  },
  {
   "cell_type": "code",
   "execution_count": 4,
   "metadata": {},
   "outputs": [],
   "source": [
    "\"\"\" Parse objects to float\n",
    "\"\"\"\n",
    "for column in object_columns:\n",
    "    sub = dataset[column].str.replace(\",\",\"\").str.replace(\"-\",\"\").str.strip().apply(lambda x: np.nan if x == \"\" else x)\n",
    "    dataset[column] = sub.astype(float)"
   ]
  },
  {
   "cell_type": "code",
   "execution_count": 5,
   "metadata": {},
   "outputs": [
    {
     "data": {
      "text/plain": [
       "bool         4\n",
       "float64    323\n",
       "dtype: int64"
      ]
     },
     "execution_count": 5,
     "metadata": {},
     "output_type": "execute_result"
    }
   ],
   "source": [
    "\"\"\" Check types\n",
    "\"\"\"\n",
    "dataset.get_dtype_counts()"
   ]
  },
  {
   "cell_type": "markdown",
   "metadata": {},
   "source": [
    "## Variable Selection"
   ]
  },
  {
   "cell_type": "code",
   "execution_count": 6,
   "metadata": {},
   "outputs": [],
   "source": [
    "\"\"\" Create a list of rejected variables with > .975 correlation from the profile analysis\n",
    "\"\"\"\n",
    "profile = pandas_profiling.ProfileReport(dataset, check_recoded=True)\n",
    "rejected_variables = profile.get_rejected_variables(.975)"
   ]
  },
  {
   "cell_type": "code",
   "execution_count": 7,
   "metadata": {},
   "outputs": [],
   "source": [
    "\"\"\" List of columns to keep\n",
    "\"\"\"\n",
    "keep_columns = [x for x in dataset.columns if x not in rejected_variables]"
   ]
  },
  {
   "cell_type": "code",
   "execution_count": 8,
   "metadata": {},
   "outputs": [],
   "source": [
    "\"\"\" New dataframe with the columns to keep\n",
    "\"\"\"\n",
    "dataset_clean = dataset[keep_columns]"
   ]
  },
  {
   "cell_type": "code",
   "execution_count": 9,
   "metadata": {},
   "outputs": [
    {
     "name": "stderr",
     "output_type": "stream",
     "text": [
      "/anaconda3/envs/DS420/lib/python3.7/site-packages/pandas/core/frame.py:3940: SettingWithCopyWarning: \n",
      "A value is trying to be set on a copy of a slice from a DataFrame\n",
      "\n",
      "See the caveats in the documentation: http://pandas.pydata.org/pandas-docs/stable/indexing.html#indexing-view-versus-copy\n",
      "  errors=errors)\n"
     ]
    }
   ],
   "source": [
    "\"\"\" Set the USDA Model to the percentage \n",
    "\"\"\"\n",
    "dataset_clean.drop(\"USDA Model Count\", axis=\"columns\", inplace=True)"
   ]
  },
  {
   "cell_type": "code",
   "execution_count": 10,
   "metadata": {},
   "outputs": [
    {
     "name": "stderr",
     "output_type": "stream",
     "text": [
      "/anaconda3/envs/DS420/lib/python3.7/site-packages/pandas/core/frame.py:4025: SettingWithCopyWarning: \n",
      "A value is trying to be set on a copy of a slice from a DataFrame\n",
      "\n",
      "See the caveats in the documentation: http://pandas.pydata.org/pandas-docs/stable/indexing.html#indexing-view-versus-copy\n",
      "  return super(DataFrame, self).rename(**kwargs)\n"
     ]
    }
   ],
   "source": [
    "dataset_clean.rename({\"USDA Model Percent\":\"USDA Model\"},axis=\"columns\",inplace=True)"
   ]
  },
  {
   "cell_type": "code",
   "execution_count": 11,
   "metadata": {},
   "outputs": [],
   "source": [
    "\"\"\" Save the cleaned data\n",
    "\"\"\"\n",
    "dataset_clean.to_pickle(Path.joinpath(project_dir, \"data/processed/1_data.pickle\"))\n",
    "data_dictionary.to_pickle(Path.joinpath(project_dir, \"data/processed/1_data_dictionary.pickle\"))"
   ]
  },
  {
   "cell_type": "markdown",
   "metadata": {},
   "source": [
    "## Cleaned Data Profile"
   ]
  },
  {
   "cell_type": "code",
   "execution_count": 12,
   "metadata": {},
   "outputs": [],
   "source": [
    "\"\"\" Create the data profile object and save it to an HTML file\n",
    "\"\"\"\n",
    "profile = pandas_profiling.ProfileReport(dataset_clean, check_recoded=True)\n",
    "profile.to_file(outputfile = Path.joinpath(project_dir,\n",
    "                                      \"docs/_static/profile.html\"))"
   ]
  },
  {
   "cell_type": "markdown",
   "metadata": {},
   "source": []
  }
 ],
 "metadata": {
  "hide_input": false,
  "kernelspec": {
   "display_name": "Python 3",
   "language": "python",
   "name": "python3"
  },
  "language_info": {
   "codemirror_mode": {
    "name": "ipython",
    "version": 3
   },
   "file_extension": ".py",
   "mimetype": "text/x-python",
   "name": "python",
   "nbconvert_exporter": "python",
   "pygments_lexer": "ipython3",
   "version": "3.7.3"
  }
 },
 "nbformat": 4,
 "nbformat_minor": 2
}
