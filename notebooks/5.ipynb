{
 "cells": [
  {
   "cell_type": "markdown",
   "metadata": {},
   "source": [
    "# Machine Learning Modeling"
   ]
  },
  {
   "cell_type": "code",
   "execution_count": 15,
   "metadata": {},
   "outputs": [],
   "source": [
    "import pandas as pd\n",
    "import numpy as np\n",
    "import matplotlib.pyplot as plot\n",
    "from sklearn import metrics\n",
    "from sklearn.metrics import confusion_matrix\n",
    "from sklearn.metrics import classification_report\n",
    "from sklearn.model_selection import train_test_split\n",
    "from sklearn.linear_model import LogisticRegression"
   ]
  },
  {
   "cell_type": "code",
   "execution_count": 16,
   "metadata": {},
   "outputs": [],
   "source": [
    "df = pd.read_pickle(\"../data/production/imputed_dataset.pickle\")"
   ]
  },
  {
   "cell_type": "code",
   "execution_count": 23,
   "metadata": {},
   "outputs": [],
   "source": [
    "x = df.iloc[:, :-1]\n",
    "y = df.iloc[:, -1]"
   ]
  },
  {
   "cell_type": "code",
   "execution_count": 27,
   "metadata": {},
   "outputs": [
    {
     "data": {
      "text/html": [
       "<div>\n",
       "<style scoped>\n",
       "    .dataframe tbody tr th:only-of-type {\n",
       "        vertical-align: middle;\n",
       "    }\n",
       "\n",
       "    .dataframe tbody tr th {\n",
       "        vertical-align: top;\n",
       "    }\n",
       "\n",
       "    .dataframe thead th {\n",
       "        text-align: right;\n",
       "    }\n",
       "</style>\n",
       "<table border=\"1\" class=\"dataframe\">\n",
       "  <thead>\n",
       "    <tr style=\"text-align: right;\">\n",
       "      <th></th>\n",
       "      <th>2010 Census Population</th>\n",
       "      <th>GROC09</th>\n",
       "      <th>GROCPTH14</th>\n",
       "      <th>SUPERCPTH14</th>\n",
       "      <th>CONVSPTH14</th>\n",
       "      <th>SPECSPTH14</th>\n",
       "      <th>SNAPSPTH16</th>\n",
       "      <th>WICSPTH12</th>\n",
       "      <th>FFRPTH14</th>\n",
       "      <th>FSRPTH14</th>\n",
       "      <th>...</th>\n",
       "      <th>CI90UB517_2017</th>\n",
       "      <th>PCTPOV517_2017</th>\n",
       "      <th>CI90LB517P_2017</th>\n",
       "      <th>MEDHHINC_2017</th>\n",
       "      <th>CI90LBINC_2017</th>\n",
       "      <th>CI90UBINC_2017</th>\n",
       "      <th>Civilian_labor_force_2015</th>\n",
       "      <th>Employed_2015</th>\n",
       "      <th>Unemployed_2015</th>\n",
       "      <th>Unemployment_rate_2015</th>\n",
       "    </tr>\n",
       "  </thead>\n",
       "  <tbody>\n",
       "    <tr>\n",
       "      <th>1001</th>\n",
       "      <td>54571.0</td>\n",
       "      <td>6.0</td>\n",
       "      <td>0.072209</td>\n",
       "      <td>0.018052</td>\n",
       "      <td>0.541565</td>\n",
       "      <td>0.036104</td>\n",
       "      <td>0.760911</td>\n",
       "      <td>0.090067</td>\n",
       "      <td>0.649878</td>\n",
       "      <td>0.523513</td>\n",
       "      <td>...</td>\n",
       "      <td>2192.0</td>\n",
       "      <td>18.6</td>\n",
       "      <td>15.1</td>\n",
       "      <td>58343.0</td>\n",
       "      <td>52121.0</td>\n",
       "      <td>64565.0</td>\n",
       "      <td>25602.0</td>\n",
       "      <td>24272.0</td>\n",
       "      <td>1330.0</td>\n",
       "      <td>5.2</td>\n",
       "    </tr>\n",
       "    <tr>\n",
       "      <th>1003</th>\n",
       "      <td>182265.0</td>\n",
       "      <td>24.0</td>\n",
       "      <td>0.144920</td>\n",
       "      <td>0.029983</td>\n",
       "      <td>0.589673</td>\n",
       "      <td>0.129928</td>\n",
       "      <td>0.949753</td>\n",
       "      <td>0.141517</td>\n",
       "      <td>0.659634</td>\n",
       "      <td>1.104387</td>\n",
       "      <td>...</td>\n",
       "      <td>6101.0</td>\n",
       "      <td>14.3</td>\n",
       "      <td>10.7</td>\n",
       "      <td>56607.0</td>\n",
       "      <td>52439.0</td>\n",
       "      <td>60775.0</td>\n",
       "      <td>87705.0</td>\n",
       "      <td>82843.0</td>\n",
       "      <td>4862.0</td>\n",
       "      <td>5.5</td>\n",
       "    </tr>\n",
       "    <tr>\n",
       "      <th>1005</th>\n",
       "      <td>27457.0</td>\n",
       "      <td>5.0</td>\n",
       "      <td>0.185963</td>\n",
       "      <td>0.037193</td>\n",
       "      <td>0.706661</td>\n",
       "      <td>0.074385</td>\n",
       "      <td>1.354387</td>\n",
       "      <td>0.257344</td>\n",
       "      <td>0.818239</td>\n",
       "      <td>0.557890</td>\n",
       "      <td>...</td>\n",
       "      <td>2148.0</td>\n",
       "      <td>48.8</td>\n",
       "      <td>42.6</td>\n",
       "      <td>32490.0</td>\n",
       "      <td>29218.0</td>\n",
       "      <td>35762.0</td>\n",
       "      <td>8609.0</td>\n",
       "      <td>7844.0</td>\n",
       "      <td>765.0</td>\n",
       "      <td>8.9</td>\n",
       "    </tr>\n",
       "    <tr>\n",
       "      <th>1007</th>\n",
       "      <td>22915.0</td>\n",
       "      <td>6.0</td>\n",
       "      <td>0.222163</td>\n",
       "      <td>0.044433</td>\n",
       "      <td>0.666489</td>\n",
       "      <td>0.044433</td>\n",
       "      <td>0.864874</td>\n",
       "      <td>0.221268</td>\n",
       "      <td>0.222163</td>\n",
       "      <td>0.222163</td>\n",
       "      <td>...</td>\n",
       "      <td>1099.0</td>\n",
       "      <td>26.8</td>\n",
       "      <td>19.8</td>\n",
       "      <td>45795.0</td>\n",
       "      <td>40924.0</td>\n",
       "      <td>50666.0</td>\n",
       "      <td>8572.0</td>\n",
       "      <td>8005.0</td>\n",
       "      <td>567.0</td>\n",
       "      <td>6.6</td>\n",
       "    </tr>\n",
       "    <tr>\n",
       "      <th>1009</th>\n",
       "      <td>57322.0</td>\n",
       "      <td>6.0</td>\n",
       "      <td>0.103952</td>\n",
       "      <td>0.017325</td>\n",
       "      <td>0.467784</td>\n",
       "      <td>0.000000</td>\n",
       "      <td>0.815946</td>\n",
       "      <td>0.103760</td>\n",
       "      <td>0.363832</td>\n",
       "      <td>0.259880</td>\n",
       "      <td>...</td>\n",
       "      <td>2219.0</td>\n",
       "      <td>17.7</td>\n",
       "      <td>13.1</td>\n",
       "      <td>48253.0</td>\n",
       "      <td>43784.0</td>\n",
       "      <td>52722.0</td>\n",
       "      <td>24473.0</td>\n",
       "      <td>23152.0</td>\n",
       "      <td>1321.0</td>\n",
       "      <td>5.4</td>\n",
       "    </tr>\n",
       "  </tbody>\n",
       "</table>\n",
       "<p>5 rows × 112 columns</p>\n",
       "</div>"
      ],
      "text/plain": [
       "      2010 Census Population  GROC09  GROCPTH14  SUPERCPTH14  CONVSPTH14  \\\n",
       "1001                 54571.0     6.0   0.072209     0.018052    0.541565   \n",
       "1003                182265.0    24.0   0.144920     0.029983    0.589673   \n",
       "1005                 27457.0     5.0   0.185963     0.037193    0.706661   \n",
       "1007                 22915.0     6.0   0.222163     0.044433    0.666489   \n",
       "1009                 57322.0     6.0   0.103952     0.017325    0.467784   \n",
       "\n",
       "      SPECSPTH14  SNAPSPTH16  WICSPTH12  FFRPTH14  FSRPTH14  ...  \\\n",
       "1001    0.036104    0.760911   0.090067  0.649878  0.523513  ...   \n",
       "1003    0.129928    0.949753   0.141517  0.659634  1.104387  ...   \n",
       "1005    0.074385    1.354387   0.257344  0.818239  0.557890  ...   \n",
       "1007    0.044433    0.864874   0.221268  0.222163  0.222163  ...   \n",
       "1009    0.000000    0.815946   0.103760  0.363832  0.259880  ...   \n",
       "\n",
       "      CI90UB517_2017  PCTPOV517_2017  CI90LB517P_2017  MEDHHINC_2017  \\\n",
       "1001          2192.0            18.6             15.1        58343.0   \n",
       "1003          6101.0            14.3             10.7        56607.0   \n",
       "1005          2148.0            48.8             42.6        32490.0   \n",
       "1007          1099.0            26.8             19.8        45795.0   \n",
       "1009          2219.0            17.7             13.1        48253.0   \n",
       "\n",
       "      CI90LBINC_2017  CI90UBINC_2017  Civilian_labor_force_2015  \\\n",
       "1001         52121.0         64565.0                    25602.0   \n",
       "1003         52439.0         60775.0                    87705.0   \n",
       "1005         29218.0         35762.0                     8609.0   \n",
       "1007         40924.0         50666.0                     8572.0   \n",
       "1009         43784.0         52722.0                    24473.0   \n",
       "\n",
       "      Employed_2015  Unemployed_2015  Unemployment_rate_2015  \n",
       "1001        24272.0           1330.0                     5.2  \n",
       "1003        82843.0           4862.0                     5.5  \n",
       "1005         7844.0            765.0                     8.9  \n",
       "1007         8005.0            567.0                     6.6  \n",
       "1009        23152.0           1321.0                     5.4  \n",
       "\n",
       "[5 rows x 112 columns]"
      ]
     },
     "execution_count": 27,
     "metadata": {},
     "output_type": "execute_result"
    }
   ],
   "source": [
    "x.head(5)"
   ]
  },
  {
   "cell_type": "code",
   "execution_count": 26,
   "metadata": {},
   "outputs": [
    {
     "data": {
      "text/plain": [
       "1001    False\n",
       "1003    False\n",
       "1005    False\n",
       "1007    False\n",
       "1009    False\n",
       "Name: USDA Model, dtype: bool"
      ]
     },
     "execution_count": 26,
     "metadata": {},
     "output_type": "execute_result"
    }
   ],
   "source": [
    "y.head(5)"
   ]
  },
  {
   "cell_type": "code",
   "execution_count": 18,
   "metadata": {},
   "outputs": [],
   "source": [
    "xTrain, xTest, yTrain, yTest = train_test_split(x, y, test_size=0.8, random_state=0)"
   ]
  },
  {
   "cell_type": "code",
   "execution_count": 19,
   "metadata": {},
   "outputs": [
    {
     "name": "stderr",
     "output_type": "stream",
     "text": [
      "/opt/conda/lib/python3.7/site-packages/sklearn/linear_model/logistic.py:433: FutureWarning: Default solver will be changed to 'lbfgs' in 0.22. Specify a solver to silence this warning.\n",
      "  FutureWarning)\n",
      "/opt/conda/lib/python3.7/site-packages/sklearn/svm/base.py:931: ConvergenceWarning: Liblinear failed to converge, increase the number of iterations.\n",
      "  \"the number of iterations.\", ConvergenceWarning)\n"
     ]
    },
    {
     "data": {
      "text/plain": [
       "LogisticRegression(C=1.0, class_weight=None, dual=False, fit_intercept=True,\n",
       "          intercept_scaling=1, max_iter=100, multi_class='warn',\n",
       "          n_jobs=None, penalty='l2', random_state=None, solver='warn',\n",
       "          tol=0.0001, verbose=0, warm_start=False)"
      ]
     },
     "execution_count": 19,
     "metadata": {},
     "output_type": "execute_result"
    }
   ],
   "source": [
    "logreg = LogisticRegression()\n",
    "logreg.fit(xTrain, yTrain)"
   ]
  },
  {
   "cell_type": "code",
   "execution_count": 20,
   "metadata": {},
   "outputs": [
    {
     "name": "stdout",
     "output_type": "stream",
     "text": [
      "Accuracy of logistic regression classifier on test set: 0.80\n"
     ]
    }
   ],
   "source": [
    "yPred = logreg.predict(xTest)\n",
    "print('Accuracy of logistic regression classifier on test set: {:.2f}'.format(logreg.score(xTest, yTest)))"
   ]
  },
  {
   "cell_type": "code",
   "execution_count": 21,
   "metadata": {},
   "outputs": [
    {
     "name": "stdout",
     "output_type": "stream",
     "text": [
      "[[1948   91]\n",
      " [ 398   48]]\n"
     ]
    }
   ],
   "source": [
    "confusion_matrix = confusion_matrix(yTest, yPred)\n",
    "print(confusion_matrix)"
   ]
  },
  {
   "cell_type": "code",
   "execution_count": 22,
   "metadata": {},
   "outputs": [
    {
     "name": "stdout",
     "output_type": "stream",
     "text": [
      "              precision    recall  f1-score   support\n",
      "\n",
      "       False       0.83      0.96      0.89      2039\n",
      "        True       0.35      0.11      0.16       446\n",
      "\n",
      "   micro avg       0.80      0.80      0.80      2485\n",
      "   macro avg       0.59      0.53      0.53      2485\n",
      "weighted avg       0.74      0.80      0.76      2485\n",
      "\n"
     ]
    }
   ],
   "source": [
    "print(classification_report(yTest, yPred))"
   ]
  },
  {
   "cell_type": "code",
   "execution_count": null,
   "metadata": {},
   "outputs": [],
   "source": []
  }
 ],
 "metadata": {
  "kernelspec": {
   "display_name": "Python 3",
   "language": "python",
   "name": "python3"
  },
  "language_info": {
   "codemirror_mode": {
    "name": "ipython",
    "version": 3
   },
   "file_extension": ".py",
   "mimetype": "text/x-python",
   "name": "python",
   "nbconvert_exporter": "python",
   "pygments_lexer": "ipython3",
   "version": "3.7.3"
  }
 },
 "nbformat": 4,
 "nbformat_minor": 2
}
