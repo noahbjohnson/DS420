{
 "cells": [
  {
   "cell_type": "markdown",
   "metadata": {},
   "source": [
    "# EDA and Initial Model Visualization"
   ]
  },
  {
   "cell_type": "code",
   "execution_count": 10,
   "metadata": {},
   "outputs": [],
   "source": [
    "\"\"\" Notebook Setup/Imports\n",
    "\"\"\"\n",
    "\n",
    "# Project path setup\n",
    "from pathlib import Path\n",
    "project_dir = Path(__name__).resolve().parents[1]\n",
    "\n",
    "# Library import\n",
    "import pandas as pd\n",
    "import numpy as np\n",
    "import plotly.plotly as py\n",
    "import plotly.figure_factory as ff\n",
    "\n",
    "# Print strings as markdown\n",
    "from IPython.display import Markdown\n",
    "\n",
    "# Data variables from previous notebook\n",
    "dataset = pd.read_pickle(Path.joinpath(project_dir, \"data/processed/1_data.pickle\"))\n",
    "data_dictionary = pd.read_pickle(Path.joinpath(project_dir, \"data/processed/1_data_dictionary.pickle\"))"
   ]
  },
  {
   "cell_type": "markdown",
   "metadata": {},
   "source": [
    "## Plot USDA Model"
   ]
  },
  {
   "cell_type": "code",
   "execution_count": 12,
   "metadata": {},
   "outputs": [
    {
     "name": "stdout",
     "output_type": "stream",
     "text": [
      "The draw time for this plot will be slow for all clients.\n"
     ]
    },
    {
     "data": {
      "text/html": [
       "<iframe id=\"igraph\" scrolling=\"no\" style=\"border:none;\" seamless=\"seamless\" src=\"https://plot.ly/~NoahtTristan/2.embed\" height=\"450px\" width=\"900px\"></iframe>"
      ],
      "text/plain": [
       "<plotly.tools.PlotlyDisplay object>"
      ]
     },
     "execution_count": 12,
     "metadata": {},
     "output_type": "execute_result"
    }
   ],
   "source": [
    "fips = dataset.index.to_list()\n",
    "values = [ 1 if x else 0 for x in dataset['USDA Model']]\n",
    "\n",
    "fig = ff.create_choropleth(fips=fips, values=values)\n",
    "py.iplot(fig, filename='USDA Initial Model', sort=False)"
   ]
  }
 ],
 "metadata": {
  "hide_input": false,
  "kernelspec": {
   "display_name": "Python 3",
   "language": "python",
   "name": "python3"
  },
  "language_info": {
   "codemirror_mode": {
    "name": "ipython",
    "version": 3
   },
   "file_extension": ".py",
   "mimetype": "text/x-python",
   "name": "python",
   "nbconvert_exporter": "python",
   "pygments_lexer": "ipython3",
   "version": "3.6.8"
  }
 },
 "nbformat": 4,
 "nbformat_minor": 2
}
