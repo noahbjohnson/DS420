{
 "cells": [
  {
   "cell_type": "markdown",
   "metadata": {},
   "source": [
    "# County Supplemental Data"
   ]
  },
  {
   "cell_type": "code",
   "execution_count": 2,
   "metadata": {},
   "outputs": [],
   "source": [
    "\"\"\" Notebook Setup/Imports\n",
    "\"\"\"\n",
    "\n",
    "# Project path setup\n",
    "from pathlib import Path\n",
    "project_dir = Path(__name__).resolve().parents[1]\n",
    "\n",
    "# Library import\n",
    "import pandas as pd\n",
    "import numpy as np\n",
    "import plotly as py\n",
    "py.tools.set_credentials_file(username=\"NoahtTristan\", api_key=\"A3pWAtQEqacwCMtXMNvR\")\n",
    "import plotly.figure_factory as ff\n",
    "\n",
    "# Print strings as markdown\n",
    "from IPython.display import Markdown\n",
    "\n",
    "# Data variables from previous notebook\n",
    "dataset = pd.read_pickle(Path.joinpath(project_dir, \"data/processed/1_data.pickle\"))\n",
    "data_dictionary = pd.read_pickle(Path.joinpath(project_dir, \"data/processed/1_data_dictionary.pickle\"))"
   ]
  },
  {
   "cell_type": "markdown",
   "metadata": {},
   "source": [
    "## Additional County Data\n",
    "> https://www.ers.usda.gov/data-products/county-level-data-sets/download-data/"
   ]
  },
  {
   "cell_type": "code",
   "execution_count": 28,
   "metadata": {},
   "outputs": [],
   "source": [
    "education = pd.read_csv(\"../data/external/Education.csv\",\n",
    "                                 encoding='latin-1').set_index(\"FIPS Code\")"
   ]
  },
  {
   "cell_type": "code",
   "execution_count": 32,
   "metadata": {},
   "outputs": [],
   "source": [
    "poverty = pd.read_csv(\"../data/external/PovertyEstimates.csv\",\n",
    "                                 encoding='latin-1').set_index(\"FIPStxt\")"
   ]
  },
  {
   "cell_type": "code",
   "execution_count": 36,
   "metadata": {},
   "outputs": [],
   "source": [
    "unemployment = pd.read_excel(\"../data/external/Unemployment.xls\", skiprows=7,\n",
    "                                 encoding='latin-1').set_index(\"FIPStxt\")"
   ]
  },
  {
   "cell_type": "code",
   "execution_count": 65,
   "metadata": {},
   "outputs": [],
   "source": [
    "ed_keep_cols = []\n",
    "ed_cols = education.columns.values.tolist()\n",
    "for col in ed_cols:\n",
    "    if (col.find(\"1970\") < 0 and col.find(\"1980\") < 0 \n",
    "        and col.find(\"1990\") < 0 and col.find(\"2000\") < 0\n",
    "       and col.find(\"2003\") < 0 and col != 'State'\n",
    "       and col != \"Area name\" and col.find(\"2013 \") < 0\n",
    "       and col.find(\"Unnamed\") < 0):\n",
    "        ed_keep_cols.append(col)"
   ]
  },
  {
   "cell_type": "code",
   "execution_count": 67,
   "metadata": {},
   "outputs": [],
   "source": [
    "education = education[ed_keep_cols]"
   ]
  },
  {
   "cell_type": "code",
   "execution_count": 77,
   "metadata": {},
   "outputs": [],
   "source": [
    "pov_keep_cols = []\n",
    "pov_cols = poverty.columns.values.tolist()\n",
    "for col in pov_cols:\n",
    "    if (col.find(\"1970\") < 0 and col.find(\"1980\") < 0 \n",
    "        and col.find(\"1990\") < 0 and col.find(\"2000\") < 0\n",
    "       and col.find(\"2003\") < 0 and col != 'State'\n",
    "       and col.find(\"Area\") < 0 and col.find(\"2013 \") < 0\n",
    "       and col.find(\"Unnamed\") < 0 and col.find(\"_2013\") < 0):\n",
    "        pov_keep_cols.append(col)"
   ]
  },
  {
   "cell_type": "code",
   "execution_count": 80,
   "metadata": {},
   "outputs": [],
   "source": [
    "poverty = poverty[pov_keep_cols]"
   ]
  },
  {
   "cell_type": "code",
   "execution_count": 91,
   "metadata": {},
   "outputs": [],
   "source": [
    "unemployment_keep_cols = []\n",
    "unemployment_cols = unemployment.columns.values.tolist()\n",
    "for col in unemployment_cols:\n",
    "    if (col.find(\"1970\") < 0 and col.find(\"1980\") < 0 \n",
    "        and col.find(\"1990\") < 0 and col.find(\"2000\") < 0\n",
    "       and col.find(\"2003\") < 0 and col != 'State'\n",
    "       and col.find(\"Area\") < 0 and col.find(\"2013 \") < 0\n",
    "       and col.find(\"Unnamed\") < 0 and col.find(\"_2013\") < 0\n",
    "       and col.find(\"_2007\") < 0 and col.find(\"_2008\") < 0\n",
    "       and col.find(\"_2009\") < 0 and col.find(\"_2010\") < 0\n",
    "       and col.find(\"_2011\") < 0 and col.find(\"_2012\") < 0\n",
    "       and col.find(\"_2014\") < 0 and col.find(\"_2016\") < 0\n",
    "       and col.find(\"_2017\") < 0):\n",
    "        unemployment_keep_cols.append(col)"
   ]
  },
  {
   "cell_type": "code",
   "execution_count": 93,
   "metadata": {},
   "outputs": [],
   "source": [
    "unemployment = unemployment[unemployment_keep_cols]"
   ]
  },
  {
   "cell_type": "code",
   "execution_count": 108,
   "metadata": {},
   "outputs": [],
   "source": [
    "county_data = education.join(\n",
    "    poverty,rsuffix=\"_\").join(\n",
    "    unemployment,rsuffix=\"_\")"
   ]
  },
  {
   "cell_type": "code",
   "execution_count": 110,
   "metadata": {},
   "outputs": [],
   "source": [
    "full_dataset = dataset.set_index(\"index\").join(county_data)"
   ]
  },
  {
   "cell_type": "code",
   "execution_count": 121,
   "metadata": {},
   "outputs": [],
   "source": [
    "pov_dd = pd.read_excel(\"../data/external/PovertyEstimates.xls\",sheet_name=1).loc[:33]"
   ]
  },
  {
   "cell_type": "code",
   "execution_count": 127,
   "metadata": {},
   "outputs": [],
   "source": [
    "pov_dd = pov_dd.rename({\n",
    "    \"Column variable name\":\"Variable Code\",\n",
    "    \"Description\":\"Variable Name\"\n",
    "},axis=\"columns\").drop(\"Notes\",axis=\"columns\")"
   ]
  },
  {
   "cell_type": "code",
   "execution_count": 131,
   "metadata": {},
   "outputs": [],
   "source": [
    "data_dictionary = pd.concat([data_dictionary,pov_dd],sort=False)"
   ]
  },
  {
   "cell_type": "code",
   "execution_count": 133,
   "metadata": {},
   "outputs": [],
   "source": [
    "un_dd = pd.read_excel(\"../data/external/Unemployment.xls\",sheet_name=1)"
   ]
  },
  {
   "cell_type": "code",
   "execution_count": 136,
   "metadata": {},
   "outputs": [],
   "source": [
    "un_dd = un_dd.loc[:51].rename({\n",
    "    \"Variable\":\"Variable Code\",\n",
    "    \"Description\":\"Variable Name\"\n",
    "},axis=\"columns\")"
   ]
  },
  {
   "cell_type": "code",
   "execution_count": 138,
   "metadata": {},
   "outputs": [],
   "source": [
    "data_dictionary = pd.concat([data_dictionary,un_dd],sort=False)"
   ]
  },
  {
   "cell_type": "code",
   "execution_count": 142,
   "metadata": {},
   "outputs": [],
   "source": [
    "# Save data\n",
    "dataset.to_pickle(\"../data/production/data.pickle\")\n",
    "data_dictionary.to_pickle(\"../data/production/data_dictionary.pickle\")"
   ]
  },
  {
   "cell_type": "code",
   "execution_count": 143,
   "metadata": {},
   "outputs": [],
   "source": [
    "# Save data\n",
    "dataset.to_csv(\"../data/production/data.csv\")\n",
    "data_dictionary.to_csv(\"../data/production/data_dictionary.csv\")"
   ]
  }
 ],
 "metadata": {
  "hide_input": false,
  "kernelspec": {
   "display_name": "Python 3",
   "language": "python",
   "name": "python3"
  },
  "language_info": {
   "codemirror_mode": {
    "name": "ipython",
    "version": 3
   },
   "file_extension": ".py",
   "mimetype": "text/x-python",
   "name": "python",
   "nbconvert_exporter": "python",
   "pygments_lexer": "ipython3",
   "version": "3.6.8"
  }
 },
 "nbformat": 4,
 "nbformat_minor": 2
}
